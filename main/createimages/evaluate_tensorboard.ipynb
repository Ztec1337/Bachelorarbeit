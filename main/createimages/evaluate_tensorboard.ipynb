{
 "cells": [
  {
   "cell_type": "code",
   "execution_count": 2,
   "metadata": {
    "collapsed": true,
    "pycharm": {
     "name": "#%%\n"
    }
   },
   "outputs": [],
   "source": [
    "from packaging import version\n",
    "from os import path\n",
    "\n",
    "import pandas as pd\n",
    "from matplotlib import pyplot as plt\n",
    "import seaborn as sns\n",
    "\n",
    "plt.style.use('science')\n",
    "\n",
    "import tensorboard as tb"
   ]
  },
  {
   "cell_type": "code",
   "execution_count": 3,
   "outputs": [
    {
     "name": "stdout",
     "output_type": "stream",
     "text": [
      "TensorBoard version:  2.9.1\n"
     ]
    }
   ],
   "source": [
    "major_ver, minor_ver, _ = version.parse(tb.__version__).release\n",
    "assert major_ver >= 2 and minor_ver >= 3, \\\n",
    "    \"This notebook requires TensorBoard 2.3 or later.\"\n",
    "print(\"TensorBoard version: \", tb.__version__)"
   ],
   "metadata": {
    "collapsed": false,
    "pycharm": {
     "name": "#%%\n"
    }
   }
  },
  {
   "cell_type": "code",
   "execution_count": 4,
   "outputs": [
    {
     "ename": "KeyboardInterrupt",
     "evalue": "",
     "output_type": "error",
     "traceback": [
      "\u001B[1;31m---------------------------------------------------------------------------\u001B[0m",
      "\u001B[1;31mKeyboardInterrupt\u001B[0m                         Traceback (most recent call last)",
      "\u001B[1;32m~\\AppData\\Local\\Temp/ipykernel_7656/3395215734.py\u001B[0m in \u001B[0;36m<module>\u001B[1;34m\u001B[0m\n\u001B[0;32m      2\u001B[0m \u001B[0mexperiment_id\u001B[0m \u001B[1;33m=\u001B[0m \u001B[1;34m\"l85sKqh3Qh6mf9dCYsnLYA\"\u001B[0m\u001B[1;33m\u001B[0m\u001B[1;33m\u001B[0m\u001B[0m\n\u001B[0;32m      3\u001B[0m \u001B[0mexperiment\u001B[0m \u001B[1;33m=\u001B[0m \u001B[0mtb\u001B[0m\u001B[1;33m.\u001B[0m\u001B[0mdata\u001B[0m\u001B[1;33m.\u001B[0m\u001B[0mexperimental\u001B[0m\u001B[1;33m.\u001B[0m\u001B[0mExperimentFromDev\u001B[0m\u001B[1;33m(\u001B[0m\u001B[0mexperiment_id\u001B[0m\u001B[1;33m)\u001B[0m\u001B[1;33m\u001B[0m\u001B[1;33m\u001B[0m\u001B[0m\n\u001B[1;32m----> 4\u001B[1;33m \u001B[0mdf\u001B[0m \u001B[1;33m=\u001B[0m \u001B[0mexperiment\u001B[0m\u001B[1;33m.\u001B[0m\u001B[0mget_scalars\u001B[0m\u001B[1;33m(\u001B[0m\u001B[1;33m)\u001B[0m\u001B[1;33m\u001B[0m\u001B[1;33m\u001B[0m\u001B[0m\n\u001B[0m\u001B[0;32m      5\u001B[0m \u001B[0mdf\u001B[0m\u001B[1;33m.\u001B[0m\u001B[0mhead\u001B[0m\u001B[1;33m(\u001B[0m\u001B[1;33m)\u001B[0m\u001B[1;33m\u001B[0m\u001B[1;33m\u001B[0m\u001B[0m\n",
      "\u001B[1;32mC:\\ProgramData\\Anaconda3\\lib\\site-packages\\tensorboard\\data\\experimental\\experiment_from_dev.py\u001B[0m in \u001B[0;36mget_scalars\u001B[1;34m(self, runs_filter, tags_filter, pivot, include_wall_time)\u001B[0m\n\u001B[0;32m    100\u001B[0m         \u001B[0mwall_times\u001B[0m \u001B[1;33m=\u001B[0m \u001B[1;33m[\u001B[0m\u001B[1;33m]\u001B[0m\u001B[1;33m\u001B[0m\u001B[1;33m\u001B[0m\u001B[0m\n\u001B[0;32m    101\u001B[0m         \u001B[0mvalues\u001B[0m \u001B[1;33m=\u001B[0m \u001B[1;33m[\u001B[0m\u001B[1;33m]\u001B[0m\u001B[1;33m\u001B[0m\u001B[1;33m\u001B[0m\u001B[0m\n\u001B[1;32m--> 102\u001B[1;33m         \u001B[1;32mfor\u001B[0m \u001B[0mresponse\u001B[0m \u001B[1;32min\u001B[0m \u001B[0mstream\u001B[0m\u001B[1;33m:\u001B[0m\u001B[1;33m\u001B[0m\u001B[1;33m\u001B[0m\u001B[0m\n\u001B[0m\u001B[0;32m    103\u001B[0m             \u001B[1;31m# TODO(cais, wchargin): Display progress bar during data loading.\u001B[0m\u001B[1;33m\u001B[0m\u001B[1;33m\u001B[0m\u001B[0m\n\u001B[0;32m    104\u001B[0m             \u001B[0mnum_values\u001B[0m \u001B[1;33m=\u001B[0m \u001B[0mlen\u001B[0m\u001B[1;33m(\u001B[0m\u001B[0mresponse\u001B[0m\u001B[1;33m.\u001B[0m\u001B[0mpoints\u001B[0m\u001B[1;33m.\u001B[0m\u001B[0mvalues\u001B[0m\u001B[1;33m)\u001B[0m\u001B[1;33m\u001B[0m\u001B[1;33m\u001B[0m\u001B[0m\n",
      "\u001B[1;32mC:\\ProgramData\\Anaconda3\\lib\\site-packages\\grpc\\_channel.py\u001B[0m in \u001B[0;36m__next__\u001B[1;34m(self)\u001B[0m\n\u001B[0;32m    424\u001B[0m \u001B[1;33m\u001B[0m\u001B[0m\n\u001B[0;32m    425\u001B[0m     \u001B[1;32mdef\u001B[0m \u001B[0m__next__\u001B[0m\u001B[1;33m(\u001B[0m\u001B[0mself\u001B[0m\u001B[1;33m)\u001B[0m\u001B[1;33m:\u001B[0m\u001B[1;33m\u001B[0m\u001B[1;33m\u001B[0m\u001B[0m\n\u001B[1;32m--> 426\u001B[1;33m         \u001B[1;32mreturn\u001B[0m \u001B[0mself\u001B[0m\u001B[1;33m.\u001B[0m\u001B[0m_next\u001B[0m\u001B[1;33m(\u001B[0m\u001B[1;33m)\u001B[0m\u001B[1;33m\u001B[0m\u001B[1;33m\u001B[0m\u001B[0m\n\u001B[0m\u001B[0;32m    427\u001B[0m \u001B[1;33m\u001B[0m\u001B[0m\n\u001B[0;32m    428\u001B[0m     \u001B[1;32mdef\u001B[0m \u001B[0m_next\u001B[0m\u001B[1;33m(\u001B[0m\u001B[0mself\u001B[0m\u001B[1;33m)\u001B[0m\u001B[1;33m:\u001B[0m\u001B[1;33m\u001B[0m\u001B[1;33m\u001B[0m\u001B[0m\n",
      "\u001B[1;32mC:\\ProgramData\\Anaconda3\\lib\\site-packages\\grpc\\_channel.py\u001B[0m in \u001B[0;36m_next\u001B[1;34m(self)\u001B[0m\n\u001B[0;32m    815\u001B[0m                          self._state.code is not None))\n\u001B[0;32m    816\u001B[0m \u001B[1;33m\u001B[0m\u001B[0m\n\u001B[1;32m--> 817\u001B[1;33m             \u001B[0m_common\u001B[0m\u001B[1;33m.\u001B[0m\u001B[0mwait\u001B[0m\u001B[1;33m(\u001B[0m\u001B[0mself\u001B[0m\u001B[1;33m.\u001B[0m\u001B[0m_state\u001B[0m\u001B[1;33m.\u001B[0m\u001B[0mcondition\u001B[0m\u001B[1;33m.\u001B[0m\u001B[0mwait\u001B[0m\u001B[1;33m,\u001B[0m \u001B[0m_response_ready\u001B[0m\u001B[1;33m)\u001B[0m\u001B[1;33m\u001B[0m\u001B[1;33m\u001B[0m\u001B[0m\n\u001B[0m\u001B[0;32m    818\u001B[0m             \u001B[1;32mif\u001B[0m \u001B[0mself\u001B[0m\u001B[1;33m.\u001B[0m\u001B[0m_state\u001B[0m\u001B[1;33m.\u001B[0m\u001B[0mresponse\u001B[0m \u001B[1;32mis\u001B[0m \u001B[1;32mnot\u001B[0m \u001B[1;32mNone\u001B[0m\u001B[1;33m:\u001B[0m\u001B[1;33m\u001B[0m\u001B[1;33m\u001B[0m\u001B[0m\n\u001B[0;32m    819\u001B[0m                 \u001B[0mresponse\u001B[0m \u001B[1;33m=\u001B[0m \u001B[0mself\u001B[0m\u001B[1;33m.\u001B[0m\u001B[0m_state\u001B[0m\u001B[1;33m.\u001B[0m\u001B[0mresponse\u001B[0m\u001B[1;33m\u001B[0m\u001B[1;33m\u001B[0m\u001B[0m\n",
      "\u001B[1;32mC:\\ProgramData\\Anaconda3\\lib\\site-packages\\grpc\\_common.py\u001B[0m in \u001B[0;36mwait\u001B[1;34m(wait_fn, wait_complete_fn, timeout, spin_cb)\u001B[0m\n\u001B[0;32m    139\u001B[0m     \u001B[1;32mif\u001B[0m \u001B[0mtimeout\u001B[0m \u001B[1;32mis\u001B[0m \u001B[1;32mNone\u001B[0m\u001B[1;33m:\u001B[0m\u001B[1;33m\u001B[0m\u001B[1;33m\u001B[0m\u001B[0m\n\u001B[0;32m    140\u001B[0m         \u001B[1;32mwhile\u001B[0m \u001B[1;32mnot\u001B[0m \u001B[0mwait_complete_fn\u001B[0m\u001B[1;33m(\u001B[0m\u001B[1;33m)\u001B[0m\u001B[1;33m:\u001B[0m\u001B[1;33m\u001B[0m\u001B[1;33m\u001B[0m\u001B[0m\n\u001B[1;32m--> 141\u001B[1;33m             \u001B[0m_wait_once\u001B[0m\u001B[1;33m(\u001B[0m\u001B[0mwait_fn\u001B[0m\u001B[1;33m,\u001B[0m \u001B[0mMAXIMUM_WAIT_TIMEOUT\u001B[0m\u001B[1;33m,\u001B[0m \u001B[0mspin_cb\u001B[0m\u001B[1;33m)\u001B[0m\u001B[1;33m\u001B[0m\u001B[1;33m\u001B[0m\u001B[0m\n\u001B[0m\u001B[0;32m    142\u001B[0m     \u001B[1;32melse\u001B[0m\u001B[1;33m:\u001B[0m\u001B[1;33m\u001B[0m\u001B[1;33m\u001B[0m\u001B[0m\n\u001B[0;32m    143\u001B[0m         \u001B[0mend\u001B[0m \u001B[1;33m=\u001B[0m \u001B[0mtime\u001B[0m\u001B[1;33m.\u001B[0m\u001B[0mtime\u001B[0m\u001B[1;33m(\u001B[0m\u001B[1;33m)\u001B[0m \u001B[1;33m+\u001B[0m \u001B[0mtimeout\u001B[0m\u001B[1;33m\u001B[0m\u001B[1;33m\u001B[0m\u001B[0m\n",
      "\u001B[1;32mC:\\ProgramData\\Anaconda3\\lib\\site-packages\\grpc\\_common.py\u001B[0m in \u001B[0;36m_wait_once\u001B[1;34m(wait_fn, timeout, spin_cb)\u001B[0m\n\u001B[0;32m    104\u001B[0m \u001B[1;33m\u001B[0m\u001B[0m\n\u001B[0;32m    105\u001B[0m \u001B[1;32mdef\u001B[0m \u001B[0m_wait_once\u001B[0m\u001B[1;33m(\u001B[0m\u001B[0mwait_fn\u001B[0m\u001B[1;33m,\u001B[0m \u001B[0mtimeout\u001B[0m\u001B[1;33m,\u001B[0m \u001B[0mspin_cb\u001B[0m\u001B[1;33m)\u001B[0m\u001B[1;33m:\u001B[0m\u001B[1;33m\u001B[0m\u001B[1;33m\u001B[0m\u001B[0m\n\u001B[1;32m--> 106\u001B[1;33m     \u001B[0mwait_fn\u001B[0m\u001B[1;33m(\u001B[0m\u001B[0mtimeout\u001B[0m\u001B[1;33m=\u001B[0m\u001B[0mtimeout\u001B[0m\u001B[1;33m)\u001B[0m\u001B[1;33m\u001B[0m\u001B[1;33m\u001B[0m\u001B[0m\n\u001B[0m\u001B[0;32m    107\u001B[0m     \u001B[1;32mif\u001B[0m \u001B[0mspin_cb\u001B[0m \u001B[1;32mis\u001B[0m \u001B[1;32mnot\u001B[0m \u001B[1;32mNone\u001B[0m\u001B[1;33m:\u001B[0m\u001B[1;33m\u001B[0m\u001B[1;33m\u001B[0m\u001B[0m\n\u001B[0;32m    108\u001B[0m         \u001B[0mspin_cb\u001B[0m\u001B[1;33m(\u001B[0m\u001B[1;33m)\u001B[0m\u001B[1;33m\u001B[0m\u001B[1;33m\u001B[0m\u001B[0m\n",
      "\u001B[1;32mC:\\ProgramData\\Anaconda3\\lib\\threading.py\u001B[0m in \u001B[0;36mwait\u001B[1;34m(self, timeout)\u001B[0m\n\u001B[0;32m    314\u001B[0m             \u001B[1;32melse\u001B[0m\u001B[1;33m:\u001B[0m\u001B[1;33m\u001B[0m\u001B[1;33m\u001B[0m\u001B[0m\n\u001B[0;32m    315\u001B[0m                 \u001B[1;32mif\u001B[0m \u001B[0mtimeout\u001B[0m \u001B[1;33m>\u001B[0m \u001B[1;36m0\u001B[0m\u001B[1;33m:\u001B[0m\u001B[1;33m\u001B[0m\u001B[1;33m\u001B[0m\u001B[0m\n\u001B[1;32m--> 316\u001B[1;33m                     \u001B[0mgotit\u001B[0m \u001B[1;33m=\u001B[0m \u001B[0mwaiter\u001B[0m\u001B[1;33m.\u001B[0m\u001B[0macquire\u001B[0m\u001B[1;33m(\u001B[0m\u001B[1;32mTrue\u001B[0m\u001B[1;33m,\u001B[0m \u001B[0mtimeout\u001B[0m\u001B[1;33m)\u001B[0m\u001B[1;33m\u001B[0m\u001B[1;33m\u001B[0m\u001B[0m\n\u001B[0m\u001B[0;32m    317\u001B[0m                 \u001B[1;32melse\u001B[0m\u001B[1;33m:\u001B[0m\u001B[1;33m\u001B[0m\u001B[1;33m\u001B[0m\u001B[0m\n\u001B[0;32m    318\u001B[0m                     \u001B[0mgotit\u001B[0m \u001B[1;33m=\u001B[0m \u001B[0mwaiter\u001B[0m\u001B[1;33m.\u001B[0m\u001B[0macquire\u001B[0m\u001B[1;33m(\u001B[0m\u001B[1;32mFalse\u001B[0m\u001B[1;33m)\u001B[0m\u001B[1;33m\u001B[0m\u001B[1;33m\u001B[0m\u001B[0m\n",
      "\u001B[1;31mKeyboardInterrupt\u001B[0m: "
     ]
    }
   ],
   "source": [
    "# tensorboard dev upload --logdir C:\\Users\\danie\\OneDrive\\Desktop\\Bachelorarbeit\\main\\monitoring\\logs\\fit\n",
    "experiment_id = \"TqOtxXUoT2Gr94eIr6U0Ag\"\n",
    "experiment = tb.data.experimental.ExperimentFromDev(experiment_id)\n",
    "df = experiment.get_scalars()\n",
    "df.head()"
   ],
   "metadata": {
    "collapsed": false,
    "pycharm": {
     "name": "#%%\n"
    }
   }
  },
  {
   "cell_type": "code",
   "execution_count": null,
   "outputs": [],
   "source": [
    "runs = df[\"run\"].unique()\n",
    "metrics = df[\"tag\"].unique()\n",
    "print(runs)\n",
    "print(metrics)"
   ],
   "metadata": {
    "collapsed": false,
    "pycharm": {
     "name": "#%%\n"
    }
   }
  },
  {
   "cell_type": "code",
   "execution_count": null,
   "outputs": [],
   "source": [
    "colors = sns.color_palette(\"Paired\")\n",
    "colors"
   ],
   "metadata": {
    "collapsed": false,
    "pycharm": {
     "name": "#%%\n"
    }
   }
  },
  {
   "cell_type": "markdown",
   "source": [],
   "metadata": {
    "collapsed": false,
    "pycharm": {
     "name": "#%% md\n"
    }
   }
  },
  {
   "cell_type": "code",
   "execution_count": null,
   "outputs": [],
   "source": [
    "train = df[df.run.str.endswith(\"cnn1_no_noise\\\\train\")&(df.tag == \"epoch_loss\")]\n",
    "validation = df[df.run.str.endswith(\"cnn1_no_noise\\\\validation\")&(df.tag == \"epoch_loss\")]\n",
    "plt.figure(figsize=(10, 6))\n",
    "ax = sns.lineplot(data=train, x=\"step\", y=\"value\",color=colors[0])\n",
    "sns.lineplot(data=validation, x=\"step\", y=\"value\",color=colors[1])\n",
    "ax.set(title = \"Epoch Loss\",xlabel = \"Epochs\",ylim=(0, 0.4))\n",
    "\n"
   ],
   "metadata": {
    "collapsed": false,
    "pycharm": {
     "name": "#%%\n"
    }
   }
  },
  {
   "cell_type": "code",
   "execution_count": null,
   "outputs": [],
   "source": [
    "data = df[df.tag == \"epoch_loss\"]\n",
    "data = (data.pivot(index = \"run\",columns= \"step\",values=\"value\")).T\n",
    "title = 'CNN Loss - no noise'\n",
    "file = 'cnn1_no_noise'\n",
    "plt.figure(figsize=(10, 6))\n",
    "ax = sns.lineplot(data=data, x=\"step\", y= f'{file}\\\\train',color=colors[2])\n",
    "sns.lineplot(data=data, x=\"step\", y= f'{file}\\\\validation',color=colors[3],alpha = 0.7)\n",
    "ax.set(title=f\"{title}\", xlabel=\"Epochs\",ylabel = \"Error/MSE\", ylim=(0, 0.4))\n",
    "ax.legend([\"train\",\"validation\"])\n",
    "plt.savefig(f'images/{title}.png',dpi = 300)"
   ],
   "metadata": {
    "collapsed": false,
    "pycharm": {
     "name": "#%%\n"
    }
   }
  },
  {
   "cell_type": "code",
   "execution_count": null,
   "outputs": [],
   "source": [
    "title = 'MLP Loss - no noise'\n",
    "file = 'mlp1_no_noise'\n",
    "n = 0\n",
    "plt.figure(figsize=(10, 6))\n",
    "ax = sns.lineplot(data=data, x=\"step\", y= f'{file}\\\\train',color=colors[int(2*n)])\n",
    "sns.lineplot(data=data, x=\"step\", y= f'{file}\\\\validation',color=colors[int(2*n+1)],alpha = 0.7)\n",
    "ax.set(title=f\"{title}\", xlabel=\"Epochs\",ylabel = \"Error/MSE\", ylim=(0, 0.4))\n",
    "ax.legend([\"train\",\"validation\"])\n",
    "plt.savefig(f'images/{title}.png',dpi = 300)"
   ],
   "metadata": {
    "collapsed": false,
    "pycharm": {
     "name": "#%%\n"
    }
   }
  },
  {
   "cell_type": "code",
   "execution_count": null,
   "outputs": [],
   "source": [
    "title = 'CNN,MLP Overlap Loss - no noise'\n",
    "files = ['mlp1_no_noise','cnn1_no_noise']\n",
    "n = 0\n",
    "plt.figure(figsize=(10, 6))\n",
    "for n, file in enumerate(files):\n",
    "    ax = sns.lineplot(data=data, x=\"step\", y= f'{file}\\\\train',color=colors[int(2*n)])\n",
    "    sns.lineplot(data=data, x=\"step\", y= f'{file}\\\\validation',color=colors[int(2*n+1)],alpha = 0.7)\n",
    "\n",
    "ax.set(title=f\"{title}\", xlabel=\"Epochs\",ylabel = \"Error/MSE\", ylim=(0, 0.4))\n",
    "ax.legend([\"MLP train\",\"MLP validation\",\"CNN train\",\"CNN validation\"])\n",
    "plt.savefig(f'images/{title}.png',dpi = 300)"
   ],
   "metadata": {
    "collapsed": false,
    "pycharm": {
     "name": "#%%\n"
    }
   }
  },
  {
   "cell_type": "code",
   "execution_count": null,
   "outputs": [],
   "source": [
    "title = 'MLP Loss - no noise,1%'\n",
    "files = ['mlp1_no_noise','mlp1_noise_01']\n",
    "n = 0\n",
    "plt.figure(figsize=(10, 6))\n",
    "for n, file in enumerate(files):\n",
    "    ax = sns.lineplot(data=data, x=\"step\", y= f'{file}\\\\train',color=colors[int(2*n)])\n",
    "    sns.lineplot(data=data, x=\"step\", y= f'{file}\\\\validation',color=colors[int(2*n+1)],alpha = 0.7)\n",
    "\n",
    "ax.set(title=f\"{title}\", xlabel=\"Epochs\",ylabel = \"Error/MSE\", ylim=(0, 0.4))\n",
    "ax.legend([\"MLP train - no noise \",\"MLP validation - no noise\",\"MLP train - 1% \",\"MLP validation - 1%\"])\n",
    "plt.savefig(f'images/{title}.png',dpi = 300)"
   ],
   "metadata": {
    "collapsed": false,
    "pycharm": {
     "name": "#%%\n"
    }
   }
  },
  {
   "cell_type": "code",
   "execution_count": null,
   "outputs": [],
   "source": [
    "title = 'MLP Loss - no noise,1%,3%,5%'\n",
    "files = ['mlp1_no_noise', 'mlp1_noise_01','mlp1_noise_03','mlp1_noise_05']\n",
    "n = 0\n",
    "plt.figure(figsize=(10, 6))\n",
    "for n, file in enumerate(files):\n",
    "    ax = sns.lineplot(data=data, x=\"step\", y=f'{file}\\\\train', color=colors[int(2 * n)])\n",
    "    sns.lineplot(data=data, x=\"step\", y=f'{file}\\\\validation', color=colors[int(2 * n + 1)], alpha=0.7)\n",
    "\n",
    "ax.set(title=f\"{title}\", xlabel=\"Epochs\", ylabel=\"Error/MSE\", ylim=(0, 0.65))\n",
    "ax.legend([\"MLP train - no noise \", \"MLP validation - no noise\", \"MLP train - 1% \", \"MLP validation - 1%\", \"MLP train - 3% \", \"MLP validation - 3%\", \"MLP train - 3% \", \"MLP validation - 3%\"])\n",
    "plt.savefig(f'images/{title}.png', dpi=300)"
   ],
   "metadata": {
    "collapsed": false,
    "pycharm": {
     "name": "#%%\n"
    }
   }
  },
  {
   "cell_type": "code",
   "execution_count": null,
   "outputs": [],
   "source": [
    "title = 'MLP Loss 1% - no, 10%,30%,50% dropout'\n",
    "files = ['mlp1_noise_01', 'mlp_s1_dropout_10', 'mlp_s1_dropout_30', 'mlp_s1_dropout_50']\n",
    "n = 0\n",
    "plt.figure(figsize=(10, 6))\n",
    "for n, file in enumerate(files):\n",
    "    ax = sns.lineplot(data=data, x=\"step\", y=f'{file}\\\\train', color=colors[int(2 * n)])\n",
    "    sns.lineplot(data=data, x=\"step\", y=f'{file}\\\\validation', color=colors[int(2 * n + 1)], alpha=0.7)\n",
    "\n",
    "ax.set(title=f\"{title}\", xlabel=\"Epochs\", ylabel=\"Error/MSE\", ylim=(0, 0.4))\n",
    "ax.legend(\n",
    "    [\"MLP train 1% - 0% do \", \"MLP validation 1% - 0% do\", \"MLP train 1% - 10% do \", \"MLP validation 1% - 10% do\", \"MLP train 1% - 30% do \", \"MLP validation 1% - 30% do\", \"MLP train 1% - 50% do \", \"MLP validation 1% - 50% do\",])\n",
    "plt.savefig(f'images/{title}.png', dpi=300)"
   ],
   "metadata": {
    "collapsed": false,
    "pycharm": {
     "name": "#%%\n"
    }
   }
  },
  {
   "cell_type": "code",
   "execution_count": null,
   "outputs": [],
   "source": [
    "title = 'CNN Loss - no,1% noise'\n",
    "files = ['cnn1_no_noise', 'cnn1_noise_01']\n",
    "n = 0\n",
    "plt.figure(figsize=(10, 6))\n",
    "for n, file in enumerate(files):\n",
    "    ax = sns.lineplot(data=data, x=\"step\", y=f'{file}\\\\train', color=colors[int(2 * n)])\n",
    "    sns.lineplot(data=data, x=\"step\", y=f'{file}\\\\validation', color=colors[int(2 * n + 1)], alpha=0.7)\n",
    "\n",
    "ax.set(title=f\"{title}\", xlabel=\"Epochs\", ylabel=\"Error/MSE\", ylim=(0, 0.4))\n",
    "ax.legend([\"CNN train - no noise \",\"CNN validation - no noise\",\"CNN train - 1% \",\"CNN validation - 1%\"])\n",
    "plt.savefig(f'images/{title}.png', dpi=300)"
   ],
   "metadata": {
    "collapsed": false,
    "pycharm": {
     "name": "#%%\n"
    }
   }
  },
  {
   "cell_type": "code",
   "execution_count": null,
   "outputs": [],
   "source": [
    "title = 'CNN Loss - 1%,3%,5% noise'\n",
    "files = [ 'cnn1_noise_01', 'cnn1_noise_03', 'cnn1_noise_05']\n",
    "\n",
    "plt.figure(figsize=(10, 6))\n",
    "for n, file in enumerate(files):\n",
    "    n += 1\n",
    "    ax = sns.lineplot(data=data, x=\"step\", y=f'{file}\\\\train', color=colors[int(2 * n)])\n",
    "    sns.lineplot(data=data, x=\"step\", y=f'{file}\\\\validation', color=colors[int(2 * n + 1)], alpha=0.7)\n",
    "\n",
    "ax.set(title=f\"{title}\", xlabel=\"Epochs\", ylabel=\"Error/MSE\", ylim=(0, 0.5))\n",
    "ax.legend([ \"CNN train - 1% \", \"CNN validation - 1%\", \"CNN train - 3% \", \"CNN validation - 3%\", \"CNN train - 5% \", \"CNN validation - 5%\"])\n",
    "plt.savefig(f'images/{title}.png', dpi=300)"
   ],
   "metadata": {
    "collapsed": false,
    "pycharm": {
     "name": "#%%\n"
    }
   }
  },
  {
   "cell_type": "code",
   "execution_count": null,
   "outputs": [],
   "source": [
    "title = 'MLP CNN Loss - no,1% noise,dropout10'\n",
    "files = [ 'mlp1_no_noise', 'mlp1_noise_01','cnn1_noise_01', 'mlp_s1_dropout_10']\n",
    "\n",
    "plt.figure(figsize=(10, 6))\n",
    "for n, file in enumerate(files):\n",
    "    ax = sns.lineplot(data=data, x=\"step\", y=f'{file}\\\\train', color=colors[int(2 * n)])\n",
    "    sns.lineplot(data=data, x=\"step\", y=f'{file}\\\\validation', color=colors[int(2 * n + 1)], alpha=0.7)\n",
    "\n",
    "ax.set(title=f\"{title}\", xlabel=\"Epochs\", ylabel=\"Error/MSE\", ylim=(0, 0.4))\n",
    "ax.legend([ \"MLP train - 0% noise\", \"MLP validation - 0% noise\",\"MLP train - 1% noise\", \"MLP validation - 1% noise\", \"CNN train - 1% noise \", \"CNN validation - 1%noise\",\"MLP train - 1% noise 10% do\", \"MLP validation - 1% noise 10% do\"],loc = \"center right\")\n",
    "plt.savefig(f'images/{title}.png', dpi=300)"
   ],
   "metadata": {
    "collapsed": false,
    "pycharm": {
     "name": "#%%\n"
    }
   }
  },
  {
   "cell_type": "code",
   "execution_count": null,
   "outputs": [],
   "source": [],
   "metadata": {
    "collapsed": false,
    "pycharm": {
     "name": "#%%\n"
    }
   }
  },
  {
   "cell_type": "code",
   "execution_count": null,
   "outputs": [],
   "source": [],
   "metadata": {
    "collapsed": false,
    "pycharm": {
     "name": "#%%\n"
    }
   }
  }
 ],
 "metadata": {
  "kernelspec": {
   "display_name": "Python 3",
   "language": "python",
   "name": "python3"
  },
  "language_info": {
   "codemirror_mode": {
    "name": "ipython",
    "version": 2
   },
   "file_extension": ".py",
   "mimetype": "text/x-python",
   "name": "python",
   "nbconvert_exporter": "python",
   "pygments_lexer": "ipython2",
   "version": "2.7.6"
  }
 },
 "nbformat": 4,
 "nbformat_minor": 0
}