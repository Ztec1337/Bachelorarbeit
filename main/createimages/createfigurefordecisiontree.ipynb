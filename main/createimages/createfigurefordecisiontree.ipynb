{
 "nbformat": 4,
 "nbformat_minor": 0,
 "metadata": {
  "colab": {
   "name": "Untitled0.ipynb",
   "provenance": [],
   "authorship_tag": "ABX9TyOFUI5T+K+n9LEr3CxfQpg7"
  },
  "kernelspec": {
   "name": "python3",
   "display_name": "Python 3"
  },
  "language_info": {
   "name": "python"
  }
 },
 "cells": [
  {
   "cell_type": "code",
   "execution_count": 58,
   "metadata": {
    "id": "PMVPx43Pv-C1",
    "executionInfo": {
     "status": "ok",
     "timestamp": 1660053254015,
     "user_tz": -120,
     "elapsed": 4,
     "user": {
      "displayName": "Ztec1337",
      "userId": "03612865140347749463"
     }
    },
    "pycharm": {
     "name": "#%%\n"
    }
   },
   "outputs": [],
   "source": [
    "from sklearn.tree import DecisionTreeRegressor\n",
    "from sklearn.linear_model import LinearRegression\n",
    "import numpy as np\n",
    "import matplotlib.pyplot as plt\n",
    "import seaborn as sns\n",
    "\n",
    "plt.style.use('science')"
   ]
  },
  {
   "cell_type": "code",
   "source": [
    "x = np.random.uniform(0,5,50)\n",
    "outx = np.random.uniform(0,5,10)\n",
    "outy = np.random.uniform(-1,1,10)"
   ],
   "metadata": {
    "id": "MHJvhbshwNc4",
    "executionInfo": {
     "status": "ok",
     "timestamp": 1660052173255,
     "user_tz": -120,
     "elapsed": 58,
     "user": {
      "displayName": "Ztec1337",
      "userId": "03612865140347749463"
     }
    },
    "pycharm": {
     "name": "#%%\n"
    }
   },
   "execution_count": 59,
   "outputs": []
  },
  {
   "cell_type": "code",
   "source": [
    "y = np.cos(x)\n",
    "x = np.concatenate((x,outx))\n",
    "y = np.concatenate((y,outy))"
   ],
   "metadata": {
    "id": "Nu4VvpvrwNhV",
    "executionInfo": {
     "status": "ok",
     "timestamp": 1660052173257,
     "user_tz": -120,
     "elapsed": 57,
     "user": {
      "displayName": "Ztec1337",
      "userId": "03612865140347749463"
     }
    },
    "pycharm": {
     "name": "#%%\n"
    }
   },
   "execution_count": 60,
   "outputs": []
  },
  {
   "cell_type": "code",
   "source": [
    "regressor = DecisionTreeRegressor(max_depth = 2)\n",
    "regressor2 = DecisionTreeRegressor(max_depth = 5)"
   ],
   "metadata": {
    "id": "0jS3YXltyZvk",
    "executionInfo": {
     "status": "ok",
     "timestamp": 1660053131873,
     "user_tz": -120,
     "elapsed": 263,
     "user": {
      "displayName": "Ztec1337",
      "userId": "03612865140347749463"
     }
    },
    "pycharm": {
     "name": "#%%\n"
    }
   },
   "execution_count": 61,
   "outputs": []
  },
  {
   "cell_type": "code",
   "source": [
    "regressor.fit(x.reshape(-1,1),y)\n",
    "regressor2.fit(x.reshape(-1,1),y)"
   ],
   "metadata": {
    "colab": {
     "base_uri": "https://localhost:8080/"
    },
    "id": "ER53Ku3FyhdQ",
    "executionInfo": {
     "status": "ok",
     "timestamp": 1660053133047,
     "user_tz": -120,
     "elapsed": 7,
     "user": {
      "displayName": "Ztec1337",
      "userId": "03612865140347749463"
     }
    },
    "outputId": "0ff2647d-162a-4b20-ea0a-d0d53215f8c1",
    "pycharm": {
     "name": "#%%\n"
    }
   },
   "execution_count": 62,
   "outputs": [
    {
     "data": {
      "text/plain": "DecisionTreeRegressor(max_depth=5)"
     },
     "execution_count": 62,
     "metadata": {},
     "output_type": "execute_result"
    }
   ]
  },
  {
   "cell_type": "code",
   "source": [
    "colors = sns.color_palette(\"Paired\")\n",
    "colors"
   ],
   "metadata": {
    "colab": {
     "base_uri": "https://localhost:8080/",
     "height": 76
    },
    "id": "SI8Cws86zeSp",
    "executionInfo": {
     "status": "ok",
     "timestamp": 1660052173259,
     "user_tz": -120,
     "elapsed": 44,
     "user": {
      "displayName": "Ztec1337",
      "userId": "03612865140347749463"
     }
    },
    "outputId": "8f963c9b-ac4a-4b91-a429-ffb32921f4a7",
    "pycharm": {
     "name": "#%%\n"
    }
   },
   "execution_count": 63,
   "outputs": [
    {
     "data": {
      "text/plain": "[(0.6509803921568628, 0.807843137254902, 0.8901960784313725),\n (0.12156862745098039, 0.47058823529411764, 0.7058823529411765),\n (0.6980392156862745, 0.8745098039215686, 0.5411764705882353),\n (0.2, 0.6274509803921569, 0.17254901960784313),\n (0.984313725490196, 0.6039215686274509, 0.6),\n (0.8901960784313725, 0.10196078431372549, 0.10980392156862745),\n (0.9921568627450981, 0.7490196078431373, 0.43529411764705883),\n (1.0, 0.4980392156862745, 0.0),\n (0.792156862745098, 0.6980392156862745, 0.8392156862745098),\n (0.41568627450980394, 0.23921568627450981, 0.6039215686274509),\n (1.0, 1.0, 0.6),\n (0.6941176470588235, 0.34901960784313724, 0.1568627450980392)]",
      "text/html": "<svg  width=\"660\" height=\"55\"><rect x=\"0\" y=\"0\" width=\"55\" height=\"55\" style=\"fill:#a6cee3;stroke-width:2;stroke:rgb(255,255,255)\"/><rect x=\"55\" y=\"0\" width=\"55\" height=\"55\" style=\"fill:#1f78b4;stroke-width:2;stroke:rgb(255,255,255)\"/><rect x=\"110\" y=\"0\" width=\"55\" height=\"55\" style=\"fill:#b2df8a;stroke-width:2;stroke:rgb(255,255,255)\"/><rect x=\"165\" y=\"0\" width=\"55\" height=\"55\" style=\"fill:#33a02c;stroke-width:2;stroke:rgb(255,255,255)\"/><rect x=\"220\" y=\"0\" width=\"55\" height=\"55\" style=\"fill:#fb9a99;stroke-width:2;stroke:rgb(255,255,255)\"/><rect x=\"275\" y=\"0\" width=\"55\" height=\"55\" style=\"fill:#e31a1c;stroke-width:2;stroke:rgb(255,255,255)\"/><rect x=\"330\" y=\"0\" width=\"55\" height=\"55\" style=\"fill:#fdbf6f;stroke-width:2;stroke:rgb(255,255,255)\"/><rect x=\"385\" y=\"0\" width=\"55\" height=\"55\" style=\"fill:#ff7f00;stroke-width:2;stroke:rgb(255,255,255)\"/><rect x=\"440\" y=\"0\" width=\"55\" height=\"55\" style=\"fill:#cab2d6;stroke-width:2;stroke:rgb(255,255,255)\"/><rect x=\"495\" y=\"0\" width=\"55\" height=\"55\" style=\"fill:#6a3d9a;stroke-width:2;stroke:rgb(255,255,255)\"/><rect x=\"550\" y=\"0\" width=\"55\" height=\"55\" style=\"fill:#ffff99;stroke-width:2;stroke:rgb(255,255,255)\"/><rect x=\"605\" y=\"0\" width=\"55\" height=\"55\" style=\"fill:#b15928;stroke-width:2;stroke:rgb(255,255,255)\"/></svg>"
     },
     "execution_count": 63,
     "metadata": {},
     "output_type": "execute_result"
    }
   ]
  },
  {
   "cell_type": "code",
   "source": [
    "plt.figure(figsize = (10*0.8,6*0.8))\n",
    "plt.plot(x,y,ls = '',marker = '.',color = colors[1],label = 'data')\n",
    "plt.plot(outx,outy, ls = '',marker = '.',color = colors[1])\n",
    "plt.plot(np.linspace(0,5,500),regressor.predict(np.linspace(0,5,500).reshape(-1, 1)),color = colors[3], label ='max\\_depth = 2',alpha = 0.5)\n",
    "plt.plot(np.linspace(0,5,500),regressor2.predict(np.linspace(0,5,500).reshape(-1, 1)),color = colors[5], label ='max\\_depth = 5',alpha = 0.5)\n",
    "\n",
    "#plt.title('Decision Tree Regressor Example')\n",
    "plt.xlabel('x')\n",
    "plt.ylabel('y')\n",
    "plt.legend()\n",
    "plt.tight_layout()\n",
    "plt.savefig('images/decisiontree.png',dpi = 300)"
   ],
   "metadata": {
    "colab": {
     "base_uri": "https://localhost:8080/",
     "height": 437
    },
    "id": "JR4H6pXwwNmJ",
    "executionInfo": {
     "status": "ok",
     "timestamp": 1660053187605,
     "user_tz": -120,
     "elapsed": 1963,
     "user": {
      "displayName": "Ztec1337",
      "userId": "03612865140347749463"
     }
    },
    "outputId": "c3fcafee-d4cc-4d7d-ffa8-666434f7dc60",
    "pycharm": {
     "name": "#%%\n"
    }
   },
   "execution_count": 70,
   "outputs": [
    {
     "data": {
      "text/plain": "<Figure size 576x345.6 with 1 Axes>",
      "image/png": "[encoded data removed]"
     },
     "metadata": {},
     "output_type": "display_data"
    }
   ]
  },
  {
   "cell_type": "code",
   "source": [
    "regr = LinearRegression()\n",
    "regr.fit(x.reshape(-1,1),y)\n"
   ],
   "metadata": {
    "colab": {
     "base_uri": "https://localhost:8080/"
    },
    "id": "Hf2nDpD1wNpl",
    "executionInfo": {
     "status": "ok",
     "timestamp": 1660053320099,
     "user_tz": -120,
     "elapsed": 6,
     "user": {
      "displayName": "Ztec1337",
      "userId": "03612865140347749463"
     }
    },
    "outputId": "f521a0ed-e297-4a10-83df-6778bd75cebd",
    "pycharm": {
     "name": "#%%\n"
    }
   },
   "execution_count": 65,
   "outputs": [
    {
     "data": {
      "text/plain": "LinearRegression()"
     },
     "execution_count": 65,
     "metadata": {},
     "output_type": "execute_result"
    }
   ]
  },
  {
   "cell_type": "code",
   "source": [
    "plt.figure(figsize = (10,6))\n",
    "plt.plot(x,y,ls = '',marker = '.',color = colors[1],label = 'data')\n",
    "plt.plot(outx,outy, ls = '',marker = '.',color = colors[1])\n",
    "plt.plot(np.linspace(0,5,500),regr.predict(np.linspace(0,5,500).reshape(-1, 1)),color = colors[3], label = 'Linear Regressor',alpha = 0.5)\n",
    "\n",
    "plt.title('Linear Regressor Example')\n",
    "plt.xlabel('x')\n",
    "plt.ylabel('y')\n",
    "plt.legend()\n",
    "plt.tight_layout()\n",
    "plt.savefig('images/linearregressor.png',dpi = 300)"
   ],
   "metadata": {
    "colab": {
     "base_uri": "https://localhost:8080/",
     "height": 437
    },
    "id": "njdc-Xt745S4",
    "executionInfo": {
     "status": "ok",
     "timestamp": 1660053371176,
     "user_tz": -120,
     "elapsed": 2934,
     "user": {
      "displayName": "Ztec1337",
      "userId": "03612865140347749463"
     }
    },
    "outputId": "4eaa5509-299d-4b8f-f38e-faf7281ae62e",
    "pycharm": {
     "name": "#%%\n"
    }
   },
   "execution_count": 66,
   "outputs": [
    {
     "data": {
      "text/plain": "<Figure size 720x432 with 1 Axes>",
      "image/png": "[encoded data removed]"
     },
     "metadata": {},
     "output_type": "display_data"
    }
   ]
  },
  {
   "cell_type": "code",
   "source": [],
   "metadata": {
    "id": "9LuxSSTT45XQ",
    "pycharm": {
     "name": "#%%\n"
    }
   },
   "execution_count": 66,
   "outputs": []
  },
  {
   "cell_type": "code",
   "source": [],
   "metadata": {
    "id": "QVs6ka0I45be",
    "pycharm": {
     "name": "#%%\n"
    }
   },
   "execution_count": 66,
   "outputs": []
  }
 ]
}